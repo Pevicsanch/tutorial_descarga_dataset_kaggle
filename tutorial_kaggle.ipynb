{
 "cells": [
  {
   "cell_type": "markdown",
   "id": "ca4f5974",
   "metadata": {},
   "source": [
    "<span style=\"color:CadetBlue;font-weight:700;font-size:30px\"> \n",
    "Como descargar los Datasets de kaggle en google colab o desde jupyter notebook: </span>\n",
    "\n",
    "______\n",
    "$~$\n",
    "\n",
    "Lo primero es entrar en tu cuenta de kaggle e ir a la configuración de perfil:\n",
    "\n",
    "$~$\n",
    "<p align=\"center\">\n",
    "  <img width=\"80%\" src=./images/image1.png>\n",
    "</p>\n",
    "\n",
    "$~$\n",
    "\n",
    "Luego, hay que ir a <span style=\"text-decoration: underline\">\"*Account*\"</span>  y hacer clic en <span style=\"text-decoration: underline\">\"*Create New Api Token*\"</span>\n",
    "\n",
    "$~$\n",
    "<p align=\"center\">\n",
    "  <img width=\"80%\" src=./images/image2.png>\n",
    "</p>\n",
    "\n",
    "$~$\n",
    "\n",
    "Esto va a generar un archivo <span style=\"text-decoration: underline\">**\"kaggle.json\"**</span> con nuestras las credenciales. Una vez tengamos el archivo, lo siguiente sera moverlo al espacio de trabajo, es decir a la misma carpeta donde tengas el notebook con que estes trabajando. \n",
    "\n",
    "$~$\n",
    "\n",
    "En **Jupyter** se puede hacer asi:\n",
    "\n",
    "<p align=\"center\">\n",
    "  <img width=\"80%\" src=./images/image3.png>\n",
    "</p>\n",
    "\n",
    "$~$\n",
    "\n",
    "En **google colab** asi:\n",
    "\n",
    "<p align=\"center\">\n",
    "  <img width=\"80%\" src=./images/image5.png>\n",
    "</p>\n"
   ]
  },
  {
   "cell_type": "code",
   "execution_count": null,
   "id": "7d0f022d",
   "metadata": {},
   "outputs": [],
   "source": [
    "#aqui el codigo:\n",
    "from google.colab import files\n",
    "data_to_load = files.upload()"
   ]
  },
  {
   "cell_type": "markdown",
   "id": "d4267dce",
   "metadata": {},
   "source": [
    "\n",
    "<p align=\"center\">\n",
    "  <img width=\"80%\" src=./image6.png>\n",
    "</p>"
   ]
  },
  {
   "cell_type": "markdown",
   "id": "0ffcf6b2",
   "metadata": {},
   "source": [
    "$~$\n",
    "\n",
    "Ahora tenemos que importar kaggle haciendo pip install. \n",
    "\n",
    "$~$\n",
    "\n",
    "Para importar la libreria ejecutamos la siguiente celda:\n",
    "\n",
    "$~$"
   ]
  },
  {
   "cell_type": "code",
   "execution_count": null,
   "id": "7aa7371c",
   "metadata": {
    "ExecuteTime": {
     "end_time": "2022-06-16T21:03:15.026171Z",
     "start_time": "2022-06-16T21:03:12.465613Z"
    }
   },
   "outputs": [],
   "source": [
    "#esto tanto para jupyter como para google colab\n",
    "!pip install kaggle"
   ]
  },
  {
   "cell_type": "markdown",
   "id": "7a1e4eb1",
   "metadata": {},
   "source": [
    "$~$\n",
    "\n",
    "Una vez tenemos instalados kaggle debemos mover el archivo kaggle.json al directorio .kagle, que vamos a crear. para ellos ejecutamos lo siguiente:\n",
    "\n",
    "$~$\n",
    "\n"
   ]
  },
  {
   "cell_type": "code",
   "execution_count": 3,
   "id": "991b123d",
   "metadata": {
    "ExecuteTime": {
     "end_time": "2022-06-16T21:29:33.292929Z",
     "start_time": "2022-06-16T21:29:33.160387Z"
    }
   },
   "outputs": [],
   "source": [
    "\n",
    "# #creamos la carpeta donde vamos a guardar kaggle.json\n",
    "# !mkdir ~/.kaggle\n",
    "# #movemos el archivo \n",
    "# !mv kaggle.json /root/.kaggle\n",
    "#damos permiso de ejecución \n",
    "!chmod 600 ~/.kaggle/kaggle.json\n",
    "\n"
   ]
  },
  {
   "cell_type": "markdown",
   "id": "1cbd52e2",
   "metadata": {},
   "source": [
    "<p align=\"center\">\n",
    "  <img width=\"80%\" src=./images/image7.png>\n",
    "</p>"
   ]
  },
  {
   "cell_type": "markdown",
   "id": "63752b96",
   "metadata": {},
   "source": [
    "$~$\n",
    "\n",
    "si trabajas en jupiter esto sólo lo vas tener que hacer una vez. En google colab, como cada vez que te conectas se crea un entorno nuevo, lo tendrás que repetir. \n",
    "\n",
    "$~$\n",
    "\n",
    "Una vez que tengas este paso hecho, los siguiente será importar kaggle y descargar el dataset que te interese, en este caso voy a descargar el dataset de vuelos con retraso:\n",
    "\n",
    "$~$"
   ]
  },
  {
   "cell_type": "code",
   "execution_count": 8,
   "id": "2ba4425c",
   "metadata": {},
   "outputs": [
    {
     "name": "stdout",
     "output_type": "stream",
     "text": [
      "./data/st99_d00.shp\n",
      "./data/st99_d00.shx\n",
      "./data/st99_d00.dbf\n",
      "./data/DelayedFlights.csv\n"
     ]
    }
   ],
   "source": [
    "import kaggle\n",
    "import os\n",
    "#creo una carpeta donde voy a guardar el dataset\n",
    "PATH = \"./data\"\n",
    "\n",
    "#verificamos que la carpeta existo o no (esto en el caso que ya hayas ejecutado esta celda sólo haga esto una vez)\n",
    "if not os.path.exists(PATH):\n",
    "#si no existe la crea\n",
    "    os.makedirs(PATH)\n",
    "# si la carpeta existe y esta vacia descarga el dataset (esto para evitar descargar más de una vez el dataset)\n",
    "if not os.listdir(PATH):\n",
    "    !kaggle datasets download -d \"giovamata/airlinedelaycauses\" --unzip  -p $PATH  \n",
    "\n",
    "#listamos los archivos dentro de la carpeta data\n",
    "files = [os.path.join(PATH, f) for f in os.listdir(PATH)]\n",
    "for f in files:\n",
    "    print(f)"
   ]
  },
  {
   "cell_type": "markdown",
   "id": "ca3f1d1d",
   "metadata": {},
   "source": [
    "<p align=\"center\">\n",
    "  <img width=\"80%\" src=./images/image8.png>\n",
    "</p>"
   ]
  },
  {
   "cell_type": "markdown",
   "id": "cd3c1f4b",
   "metadata": {},
   "source": [
    "$~$\n",
    "\n",
    "Si quieres descargar otro dataset, tienes que ir al dataset que te interese y hacer clic en <span style=\"text-decoration: underline\">**\"Copy API command\"**</span> \n",
    "\n",
    "$~$\n",
    "\n",
    "<p align=\"center\">\n",
    "  <img width=\"80%\" src=./images/image9.png>\n",
    "</p>"
   ]
  },
  {
   "cell_type": "markdown",
   "id": "feef3252",
   "metadata": {},
   "source": [
    "$~$\n",
    "\n",
    "copias el enlace en una celda añades **!** delante del enlace y ejecutas:\n",
    "\n",
    "$~$"
   ]
  },
  {
   "cell_type": "code",
   "execution_count": null,
   "id": "f3faa69a",
   "metadata": {},
   "outputs": [],
   "source": [
    "!kaggle datasets download -d giovamata/airlinedelaycauses"
   ]
  },
  {
   "cell_type": "markdown",
   "id": "2f788b27",
   "metadata": {},
   "source": [
    "$~$\n",
    "\n",
    "A veces los dataset viene comprimidos (en archivos .zip), para que se descargen y se descompriman solo debes añadir al enlace esto --unzip\n",
    "\n",
    "$~$\n",
    "\n",
    "**!** \"<enlace_de_kaggle>\" **--unzip**\n",
    "\n",
    "$~$"
   ]
  },
  {
   "cell_type": "markdown",
   "id": "98c92163",
   "metadata": {},
   "source": [
    "<span style=\"color:CadetBlue;font-weight:700;font-size:25px\"> \n",
    "Espero que estas notas sean de ayuda </span>"
   ]
  }
 ],
 "metadata": {
  "kernelspec": {
   "display_name": "Python 3 (ipykernel)",
   "language": "python",
   "name": "python3"
  },
  "language_info": {
   "codemirror_mode": {
    "name": "ipython",
    "version": 3
   },
   "file_extension": ".py",
   "mimetype": "text/x-python",
   "name": "python",
   "nbconvert_exporter": "python",
   "pygments_lexer": "ipython3",
   "version": "3.9.5"
  },
  "toc": {
   "base_numbering": 1,
   "nav_menu": {},
   "number_sections": true,
   "sideBar": true,
   "skip_h1_title": false,
   "title_cell": "Table of Contents",
   "title_sidebar": "Contents",
   "toc_cell": false,
   "toc_position": {},
   "toc_section_display": true,
   "toc_window_display": false
  },
  "vscode": {
   "interpreter": {
    "hash": "c196e456b92eeb3a60b06f99b3c60ac6c4763f8bb1169beee1475ccb9dd5a29f"
   }
  }
 },
 "nbformat": 4,
 "nbformat_minor": 5
}
